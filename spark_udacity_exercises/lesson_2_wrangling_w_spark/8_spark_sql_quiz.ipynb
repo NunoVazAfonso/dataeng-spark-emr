{
 "cells": [
  {
   "cell_type": "markdown",
   "metadata": {},
   "source": [
    "# Data Wrangling with Spark SQL Quiz\n",
    "\n",
    "This quiz uses the same dataset and most of the same questions from the earlier \"Quiz - Data Wrangling with Data Frames Jupyter Notebook.\" For this quiz, however, use Spark SQL instead of Spark Data Frames."
   ]
  },
  {
   "cell_type": "code",
   "execution_count": 1,
   "metadata": {},
   "outputs": [],
   "source": [
    "from pyspark.sql import SparkSession\n",
    "from pyspark.sql.functions import udf\n",
    "from pyspark.sql.types import StringType\n",
    "from pyspark.sql.types import IntegerType\n",
    "from pyspark.sql.functions import desc\n",
    "from pyspark.sql.functions import asc\n",
    "from pyspark.sql.functions import sum as Fsum\n",
    "\n",
    "\n",
    "# TODOS: \n",
    "# 1) import any other libraries you might need\n",
    "# 2) instantiate a Spark session \n",
    "# 3) read in the data set located at the path \"data/sparkify_log_small.json\"\n",
    "# 4) create a view to use with your SQL queries\n",
    "# 5) write code to answer the quiz questions "
   ]
  },
  {
   "cell_type": "code",
   "execution_count": 2,
   "metadata": {},
   "outputs": [],
   "source": [
    "spark = SparkSession \\\n",
    "    .builder \\\n",
    "    .appName(\"Data wrangling with Spark SQL\") \\\n",
    "    .getOrCreate()\n",
    "\n",
    "path = \"data/sparkify_log_small.json\"\n",
    "user_log = spark.read.json(path)\n",
    "\n",
    "user_log.createOrReplaceTempView(\"user_log_table\")"
   ]
  },
  {
   "cell_type": "markdown",
   "metadata": {},
   "source": [
    "# Question 1\n",
    "\n",
    "Which page did user id \"\"(empty string) NOT visit?"
   ]
  },
  {
   "cell_type": "code",
   "execution_count": 5,
   "metadata": {},
   "outputs": [
    {
     "name": "stdout",
     "output_type": "stream",
     "text": [
      "+-----+\n",
      "| page|\n",
      "+-----+\n",
      "| Home|\n",
      "|About|\n",
      "|Login|\n",
      "| Help|\n",
      "+-----+\n",
      "\n"
     ]
    }
   ],
   "source": [
    "# TODO: write your code to answer question 1\n",
    "spark.sql(\"SELECT DISTINCT page FROM user_log_table WHERE userId = ''\").show()"
   ]
  },
  {
   "cell_type": "markdown",
   "metadata": {},
   "source": [
    "# Question 2 - Reflect\n",
    "\n",
    "Why might you prefer to use SQL over data frames? Why might you prefer data frames over SQL?"
   ]
  },
  {
   "cell_type": "markdown",
   "metadata": {},
   "source": [
    "# Question 3\n",
    "\n",
    "How many female users do we have in the data set?"
   ]
  },
  {
   "cell_type": "code",
   "execution_count": 6,
   "metadata": {},
   "outputs": [
    {
     "name": "stdout",
     "output_type": "stream",
     "text": [
      "+----------------------+\n",
      "|count(DISTINCT userId)|\n",
      "+----------------------+\n",
      "|                   462|\n",
      "+----------------------+\n",
      "\n"
     ]
    }
   ],
   "source": [
    "# TODO: write your code to answer question 3\n",
    "spark.sql(\"SELECT count(distinct userId) FROM user_log_table WHERE gender = 'F'\").show()"
   ]
  },
  {
   "cell_type": "markdown",
   "metadata": {},
   "source": [
    "# Question 4\n",
    "\n",
    "How many songs were played from the most played artist?"
   ]
  },
  {
   "cell_type": "code",
   "execution_count": 9,
   "metadata": {},
   "outputs": [
    {
     "name": "stdout",
     "output_type": "stream",
     "text": [
      "+--------------------+---+\n",
      "|              artist|  c|\n",
      "+--------------------+---+\n",
      "|            Coldplay| 83|\n",
      "|       Kings Of Leon| 69|\n",
      "|Florence + The Ma...| 52|\n",
      "|            BjÃÂ¶rk| 46|\n",
      "|       Dwight Yoakam| 45|\n",
      "+--------------------+---+\n",
      "\n"
     ]
    }
   ],
   "source": [
    "# TODO: write your code to answer question 4\n",
    "spark.sql(\"\"\"\n",
    "    SELECT artist, count(1) as c \n",
    "    FROM user_log_table \n",
    "    WHERE page = 'NextSong' \n",
    "    GROUP BY artist ORDER BY c desc \n",
    "    LIMIT 5\"\"\").show()"
   ]
  },
  {
   "cell_type": "markdown",
   "metadata": {},
   "source": [
    "# Question 5 (challenge)\n",
    "\n",
    "How many songs do users listen to on average between visiting our home page? Please round your answer to the closest integer."
   ]
  },
  {
   "cell_type": "code",
   "execution_count": 39,
   "metadata": {},
   "outputs": [],
   "source": [
    "# TODO: write your code to answer question 5\n",
    "user_period = spark.sql(\"\"\"\n",
    "    SELECT ts, page, userId, SUM( case when page = 'Home' then 1 else 0 end) OVER (partition by userid order by ts) AS period \n",
    "    FROM user_log_table \n",
    "    WHERE (page = 'NextSong' OR page ='Home')\n",
    "    ORDER BY ts \"\"\")"
   ]
  },
  {
   "cell_type": "code",
   "execution_count": 40,
   "metadata": {},
   "outputs": [
    {
     "name": "stdout",
     "output_type": "stream",
     "text": [
      "+-------------+--------+------+------+\n",
      "|           ts|    page|userId|period|\n",
      "+-------------+--------+------+------+\n",
      "|1513720872284|NextSong|  1046|     0|\n",
      "|1513720878284|NextSong|  1000|     0|\n",
      "|1513720881284|NextSong|  2219|     0|\n",
      "|1513720905284|NextSong|  2373|     0|\n",
      "|1513720913284|    Home|  1747|     1|\n",
      "|1513720955284|NextSong|  1162|     0|\n",
      "|1513720959284|NextSong|  1061|     0|\n",
      "|1513720959284|    Home|   748|     1|\n",
      "|1513720980284|    Home|   597|     1|\n",
      "|1513720983284|NextSong|  1806|     0|\n",
      "|1513720993284|NextSong|   748|     1|\n",
      "|1513721031284|NextSong|  1176|     0|\n",
      "|1513721045284|NextSong|  2164|     0|\n",
      "|1513721058284|NextSong|  2146|     0|\n",
      "|1513721077284|NextSong|  2219|     0|\n",
      "|1513721088284|    Home|  1176|     1|\n",
      "|1513721095284|NextSong|  2904|     0|\n",
      "|1513721097284|NextSong|   597|     1|\n",
      "|1513721104284|NextSong|  1046|     0|\n",
      "|1513721104284|NextSong|   226|     0|\n",
      "+-------------+--------+------+------+\n",
      "only showing top 20 rows\n",
      "\n"
     ]
    }
   ],
   "source": [
    "user_period.show()"
   ]
  },
  {
   "cell_type": "code",
   "execution_count": 41,
   "metadata": {},
   "outputs": [],
   "source": [
    "user_period.createOrReplaceTempView(\"user_period_table\")"
   ]
  },
  {
   "cell_type": "code",
   "execution_count": 45,
   "metadata": {},
   "outputs": [],
   "source": [
    "user_period_total = spark.sql(\"\"\"\n",
    "    SELECT avg( total ) from (\n",
    "        SELECT userid, period, count(1) AS total \n",
    "            FROM user_period_table \n",
    "            WHERE page = 'NextSong' \n",
    "            GROUP BY userid,period\n",
    "    )\n",
    "\"\"\")"
   ]
  },
  {
   "cell_type": "code",
   "execution_count": 46,
   "metadata": {},
   "outputs": [
    {
     "name": "stdout",
     "output_type": "stream",
     "text": [
      "+------------------+\n",
      "|        avg(total)|\n",
      "+------------------+\n",
      "|6.9558333333333335|\n",
      "+------------------+\n",
      "\n"
     ]
    }
   ],
   "source": [
    "user_period_total.show()"
   ]
  }
 ],
 "metadata": {
  "kernelspec": {
   "display_name": "Python 3",
   "language": "python",
   "name": "python3"
  },
  "language_info": {
   "codemirror_mode": {
    "name": "ipython",
    "version": 3
   },
   "file_extension": ".py",
   "mimetype": "text/x-python",
   "name": "python",
   "nbconvert_exporter": "python",
   "pygments_lexer": "ipython3",
   "version": "3.6.3"
  }
 },
 "nbformat": 4,
 "nbformat_minor": 2
}
